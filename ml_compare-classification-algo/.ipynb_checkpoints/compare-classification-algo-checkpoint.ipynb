{
 "cells": [
  {
   "cell_type": "code",
   "execution_count": 10,
   "id": "5cf9bf16",
   "metadata": {},
   "outputs": [],
   "source": [
    "# import pandas in order to read from file, similar to C++'s iostream:\n",
    "# converts the provided file into a panda object, which allows for additional data manipulation\n",
    "import pandas as pd\n",
    "dataset = pd.read_csv(\"iphone_purchase_records.csv\")\n",
    "\n",
    "# 'iloc' determines the selection of data from the dataset\n",
    "# 'values' returns a numpy equivalent of the dataframe\n",
    "X = dataset.iloc[:,:-1].values    # stores all data aside from \"Purchased Iphone\" at the rightmost side\n",
    "y = dataset.iloc[:, 3].values     # stores the data of \"Purchased Iphone\""
   ]
  },
  {
   "cell_type": "code",
   "execution_count": 2,
   "id": "43d51579",
   "metadata": {},
   "outputs": [],
   "source": [
    "from sklearn.preprocessing import LabelEncoder\n",
    "\n",
    "# the documentation indicates that LabelEncoder() \"Encode target labels with value between 0 and n_classes-1.\"\n",
    "# what might n_classes be in this case?\n",
    "# Further reading may be found here: https://scikit-learn.org/stable/modules/preprocessing_targets.html#preprocessing-targets\n",
    "# though, for now the finer details will be ignored in favor of understanding for the bigger picture\n",
    "labelEncoder_gender =  LabelEncoder()\n",
    "\n",
    "# https://stackoverflow.com/questions/45704226/what-does-the-fit-method-in-scikit-learn-do\n",
    "# The following trains the model on the given data (in this case, the genders of the data), \n",
    "# though how will remain as a blackbox until I have attained a better understandin of ML\n",
    "X[:,0] = labelEncoder_gender.fit_transform(X[:,0])"
   ]
  },
  {
   "cell_type": "code",
   "execution_count": 3,
   "id": "913c314c",
   "metadata": {},
   "outputs": [],
   "source": [
    "from sklearn.preprocessing import StandardScaler\n",
    "\n",
    "sc = StandardScaler()      # \"Standardize features by removing the mean and scaling to unit variance.\"\n",
    "X = sc.fit_transform(X)"
   ]
  },
  {
   "cell_type": "code",
   "execution_count": 8,
   "id": "42607679",
   "metadata": {},
   "outputs": [
    {
     "name": "stdout",
     "output_type": "stream",
     "text": [
      "Logistic Regression: Mean Accuracy = 95.00% - SD Accuracy = 15.00%\n",
      "K Nearest Neighbor: Mean Accuracy = 75.00% - SD Accuracy = 33.54%\n",
      "Kernel SVM: Mean Accuracy = 95.00% - SD Accuracy = 15.00%\n",
      "Naive Bayes: Mean Accuracy = 90.00% - SD Accuracy = 20.00%\n",
      "Decision Tree: Mean Accuracy = 90.00% - SD Accuracy = 20.00%\n",
      "Random Forest: Mean Accuracy = 95.00% - SD Accuracy = 15.00%\n"
     ]
    }
   ],
   "source": [
    "from sklearn.model_selection import KFold\n",
    "from sklearn.model_selection import cross_val_score\n",
    "from sklearn.linear_model import LogisticRegression\n",
    "from sklearn.tree import DecisionTreeClassifier\n",
    "from sklearn.neighbors import KNeighborsClassifier\n",
    "from sklearn.ensemble import RandomForestClassifier\n",
    "from sklearn.naive_bayes import GaussianNB\n",
    "from sklearn.svm import SVC\n",
    "\n",
    "# creates an array for the algorithms\n",
    "classification_models = []\n",
    "classification_models.append(('Logistic Regression', LogisticRegression(solver=\"liblinear\")))\n",
    "classification_models.append(('K Nearest Neighbor', KNeighborsClassifier(n_neighbors=5, metric=\"minkowski\",p=2)))\n",
    "classification_models.append(('Kernel SVM', SVC(kernel = 'rbf',gamma='scale')))\n",
    "classification_models.append(('Naive Bayes', GaussianNB()))\n",
    "classification_models.append(('Decision Tree', DecisionTreeClassifier(criterion = \"entropy\")))\n",
    "classification_models.append(('Random Forest', RandomForestClassifier(n_estimators=100, criterion=\"entropy\")))\n",
    "\n",
    "# this is the meat of the model, this is where your current level of knowledge ends; come back later!\n",
    "for name, model in classification_models:\n",
    "  kfold = KFold(n_splits=10, shuffle=True, random_state=7)\n",
    "  result = cross_val_score(model, X, y, cv=kfold, scoring='accuracy')\n",
    "  print(\"%s: Mean Accuracy = %.2f%% - SD Accuracy = %.2f%%\" % (name, result.mean()*100, result.std()*100))"
   ]
  }
 ],
 "metadata": {
  "kernelspec": {
   "display_name": "Python 3 (ipykernel)",
   "language": "python",
   "name": "python3"
  },
  "language_info": {
   "codemirror_mode": {
    "name": "ipython",
    "version": 3
   },
   "file_extension": ".py",
   "mimetype": "text/x-python",
   "name": "python",
   "nbconvert_exporter": "python",
   "pygments_lexer": "ipython3",
   "version": "3.10.9"
  }
 },
 "nbformat": 4,
 "nbformat_minor": 5
}
